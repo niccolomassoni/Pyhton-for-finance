{
 "cells": [
  {
   "cell_type": "code",
   "execution_count": 1,
   "id": "885ee023",
   "metadata": {},
   "outputs": [],
   "source": [
    "import pandas as pd\n",
    "import numpy as np\n",
    "import matplotlib.pyplot as plt\n",
    "import yfinance as yf"
   ]
  },
  {
   "cell_type": "markdown",
   "id": "367817aa",
   "metadata": {},
   "source": [
    "To download the data i use the yfinance command, it is a fast way to obtain data \n",
    "directly from Yahoo finance, you have only to set tickets and the period of time as i have done below.\n",
    "I use INTEL STOCK  from the first October 2019 to the first October 2022."
   ]
  },
  {
   "cell_type": "code",
   "execution_count": 34,
   "id": "1abaf7e9",
   "metadata": {},
   "outputs": [],
   "source": [
    "INTC= yf.download(\"INTC\", start= '2019-10-01', end= '2022-10-01', progress= False)"
   ]
  },
  {
   "cell_type": "markdown",
   "id": "3575a0b1",
   "metadata": {},
   "source": [
    "I check if the data are correctly downloaded showing the first and the last 3 observation"
   ]
  },
  {
   "cell_type": "code",
   "execution_count": 40,
   "id": "066d0b7f",
   "metadata": {},
   "outputs": [
    {
     "data": {
      "text/html": [
       "<div>\n",
       "<style scoped>\n",
       "    .dataframe tbody tr th:only-of-type {\n",
       "        vertical-align: middle;\n",
       "    }\n",
       "\n",
       "    .dataframe tbody tr th {\n",
       "        vertical-align: top;\n",
       "    }\n",
       "\n",
       "    .dataframe thead th {\n",
       "        text-align: right;\n",
       "    }\n",
       "</style>\n",
       "<table border=\"1\" class=\"dataframe\">\n",
       "  <thead>\n",
       "    <tr style=\"text-align: right;\">\n",
       "      <th></th>\n",
       "      <th>Open</th>\n",
       "      <th>High</th>\n",
       "      <th>Low</th>\n",
       "      <th>Close</th>\n",
       "      <th>Adj Close</th>\n",
       "      <th>Volume</th>\n",
       "    </tr>\n",
       "    <tr>\n",
       "      <th>Date</th>\n",
       "      <th></th>\n",
       "      <th></th>\n",
       "      <th></th>\n",
       "      <th></th>\n",
       "      <th></th>\n",
       "      <th></th>\n",
       "    </tr>\n",
       "  </thead>\n",
       "  <tbody>\n",
       "    <tr>\n",
       "      <th>2019-09-30</th>\n",
       "      <td>51.189999</td>\n",
       "      <td>51.599998</td>\n",
       "      <td>50.939999</td>\n",
       "      <td>51.529999</td>\n",
       "      <td>47.513226</td>\n",
       "      <td>13652100</td>\n",
       "    </tr>\n",
       "  </tbody>\n",
       "</table>\n",
       "</div>"
      ],
      "text/plain": [
       "                 Open       High        Low      Close  Adj Close    Volume\n",
       "Date                                                                       \n",
       "2019-09-30  51.189999  51.599998  50.939999  51.529999  47.513226  13652100"
      ]
     },
     "execution_count": 40,
     "metadata": {},
     "output_type": "execute_result"
    }
   ],
   "source": [
    "INTC.head(1)"
   ]
  },
  {
   "cell_type": "code",
   "execution_count": 45,
   "id": "b735259c",
   "metadata": {},
   "outputs": [
    {
     "data": {
      "text/html": [
       "<div>\n",
       "<style scoped>\n",
       "    .dataframe tbody tr th:only-of-type {\n",
       "        vertical-align: middle;\n",
       "    }\n",
       "\n",
       "    .dataframe tbody tr th {\n",
       "        vertical-align: top;\n",
       "    }\n",
       "\n",
       "    .dataframe thead th {\n",
       "        text-align: right;\n",
       "    }\n",
       "</style>\n",
       "<table border=\"1\" class=\"dataframe\">\n",
       "  <thead>\n",
       "    <tr style=\"text-align: right;\">\n",
       "      <th></th>\n",
       "      <th>Open</th>\n",
       "      <th>High</th>\n",
       "      <th>Low</th>\n",
       "      <th>Close</th>\n",
       "      <th>Adj Close</th>\n",
       "      <th>Volume</th>\n",
       "    </tr>\n",
       "    <tr>\n",
       "      <th>Date</th>\n",
       "      <th></th>\n",
       "      <th></th>\n",
       "      <th></th>\n",
       "      <th></th>\n",
       "      <th></th>\n",
       "      <th></th>\n",
       "    </tr>\n",
       "  </thead>\n",
       "  <tbody>\n",
       "    <tr>\n",
       "      <th>2022-09-28</th>\n",
       "      <td>26.860001</td>\n",
       "      <td>27.280001</td>\n",
       "      <td>26.600000</td>\n",
       "      <td>27.129999</td>\n",
       "      <td>27.129999</td>\n",
       "      <td>40433400</td>\n",
       "    </tr>\n",
       "    <tr>\n",
       "      <th>2022-09-29</th>\n",
       "      <td>26.780001</td>\n",
       "      <td>26.780001</td>\n",
       "      <td>26.190001</td>\n",
       "      <td>26.379999</td>\n",
       "      <td>26.379999</td>\n",
       "      <td>41831300</td>\n",
       "    </tr>\n",
       "    <tr>\n",
       "      <th>2022-09-30</th>\n",
       "      <td>26.299999</td>\n",
       "      <td>26.570000</td>\n",
       "      <td>25.740000</td>\n",
       "      <td>25.770000</td>\n",
       "      <td>25.770000</td>\n",
       "      <td>43675100</td>\n",
       "    </tr>\n",
       "  </tbody>\n",
       "</table>\n",
       "</div>"
      ],
      "text/plain": [
       "                 Open       High        Low      Close  Adj Close    Volume\n",
       "Date                                                                       \n",
       "2022-09-28  26.860001  27.280001  26.600000  27.129999  27.129999  40433400\n",
       "2022-09-29  26.780001  26.780001  26.190001  26.379999  26.379999  41831300\n",
       "2022-09-30  26.299999  26.570000  25.740000  25.770000  25.770000  43675100"
      ]
     },
     "execution_count": 45,
     "metadata": {},
     "output_type": "execute_result"
    }
   ],
   "source": [
    "INTC.tail(3)"
   ]
  },
  {
   "cell_type": "markdown",
   "id": "dd2a46f4",
   "metadata": {},
   "source": [
    "We have to use the close price in order to calculate returns, i  extract from the dataframe all the observation that i need."
   ]
  },
  {
   "cell_type": "code",
   "execution_count": 42,
   "id": "76963f15",
   "metadata": {},
   "outputs": [
    {
     "data": {
      "text/html": [
       "<div>\n",
       "<style scoped>\n",
       "    .dataframe tbody tr th:only-of-type {\n",
       "        vertical-align: middle;\n",
       "    }\n",
       "\n",
       "    .dataframe tbody tr th {\n",
       "        vertical-align: top;\n",
       "    }\n",
       "\n",
       "    .dataframe thead th {\n",
       "        text-align: right;\n",
       "    }\n",
       "</style>\n",
       "<table border=\"1\" class=\"dataframe\">\n",
       "  <thead>\n",
       "    <tr style=\"text-align: right;\">\n",
       "      <th></th>\n",
       "      <th>Close</th>\n",
       "    </tr>\n",
       "    <tr>\n",
       "      <th>Date</th>\n",
       "      <th></th>\n",
       "    </tr>\n",
       "  </thead>\n",
       "  <tbody>\n",
       "    <tr>\n",
       "      <th>2019-09-30</th>\n",
       "      <td>51.529999</td>\n",
       "    </tr>\n",
       "    <tr>\n",
       "      <th>2019-10-01</th>\n",
       "      <td>50.759998</td>\n",
       "    </tr>\n",
       "    <tr>\n",
       "      <th>2019-10-02</th>\n",
       "      <td>49.389999</td>\n",
       "    </tr>\n",
       "  </tbody>\n",
       "</table>\n",
       "</div>"
      ],
      "text/plain": [
       "                Close\n",
       "Date                 \n",
       "2019-09-30  51.529999\n",
       "2019-10-01  50.759998\n",
       "2019-10-02  49.389999"
      ]
     },
     "execution_count": 42,
     "metadata": {},
     "output_type": "execute_result"
    }
   ],
   "source": [
    "INTC_price=INTC.loc[:,['Close']]\n",
    "INTC_price.head(3)"
   ]
  },
  {
   "cell_type": "code",
   "execution_count": 43,
   "id": "90dcba15",
   "metadata": {},
   "outputs": [
    {
     "data": {
      "text/html": [
       "<div>\n",
       "<style scoped>\n",
       "    .dataframe tbody tr th:only-of-type {\n",
       "        vertical-align: middle;\n",
       "    }\n",
       "\n",
       "    .dataframe tbody tr th {\n",
       "        vertical-align: top;\n",
       "    }\n",
       "\n",
       "    .dataframe thead th {\n",
       "        text-align: right;\n",
       "    }\n",
       "</style>\n",
       "<table border=\"1\" class=\"dataframe\">\n",
       "  <thead>\n",
       "    <tr style=\"text-align: right;\">\n",
       "      <th></th>\n",
       "      <th>Close</th>\n",
       "    </tr>\n",
       "    <tr>\n",
       "      <th>Date</th>\n",
       "      <th></th>\n",
       "    </tr>\n",
       "  </thead>\n",
       "  <tbody>\n",
       "    <tr>\n",
       "      <th>2022-09-28</th>\n",
       "      <td>27.129999</td>\n",
       "    </tr>\n",
       "    <tr>\n",
       "      <th>2022-09-29</th>\n",
       "      <td>26.379999</td>\n",
       "    </tr>\n",
       "    <tr>\n",
       "      <th>2022-09-30</th>\n",
       "      <td>25.770000</td>\n",
       "    </tr>\n",
       "  </tbody>\n",
       "</table>\n",
       "</div>"
      ],
      "text/plain": [
       "                Close\n",
       "Date                 \n",
       "2022-09-28  27.129999\n",
       "2022-09-29  26.379999\n",
       "2022-09-30  25.770000"
      ]
     },
     "execution_count": 43,
     "metadata": {},
     "output_type": "execute_result"
    }
   ],
   "source": [
    "INTC_price.tail(3)"
   ]
  },
  {
   "cell_type": "markdown",
   "id": "7cdeb122",
   "metadata": {},
   "source": [
    "Now we can calculate the log returns.\n",
    "Is important using .dropna() to delete the loss of the first observation due to calculation of return between days."
   ]
  },
  {
   "cell_type": "code",
   "execution_count": 46,
   "id": "eab4e312",
   "metadata": {},
   "outputs": [
    {
     "data": {
      "text/html": [
       "<div>\n",
       "<style scoped>\n",
       "    .dataframe tbody tr th:only-of-type {\n",
       "        vertical-align: middle;\n",
       "    }\n",
       "\n",
       "    .dataframe tbody tr th {\n",
       "        vertical-align: top;\n",
       "    }\n",
       "\n",
       "    .dataframe thead th {\n",
       "        text-align: right;\n",
       "    }\n",
       "</style>\n",
       "<table border=\"1\" class=\"dataframe\">\n",
       "  <thead>\n",
       "    <tr style=\"text-align: right;\">\n",
       "      <th></th>\n",
       "      <th>Close</th>\n",
       "    </tr>\n",
       "    <tr>\n",
       "      <th>Date</th>\n",
       "      <th></th>\n",
       "    </tr>\n",
       "  </thead>\n",
       "  <tbody>\n",
       "    <tr>\n",
       "      <th>2019-10-01</th>\n",
       "      <td>-0.015056</td>\n",
       "    </tr>\n",
       "    <tr>\n",
       "      <th>2019-10-02</th>\n",
       "      <td>-0.027361</td>\n",
       "    </tr>\n",
       "    <tr>\n",
       "      <th>2019-10-03</th>\n",
       "      <td>0.012875</td>\n",
       "    </tr>\n",
       "  </tbody>\n",
       "</table>\n",
       "</div>"
      ],
      "text/plain": [
       "               Close\n",
       "Date                \n",
       "2019-10-01 -0.015056\n",
       "2019-10-02 -0.027361\n",
       "2019-10-03  0.012875"
      ]
     },
     "execution_count": 46,
     "metadata": {},
     "output_type": "execute_result"
    }
   ],
   "source": [
    "INTC_lret=np.log(INTC_price).diff().dropna()\n",
    "INTC_lret.head(3)"
   ]
  },
  {
   "cell_type": "markdown",
   "id": "a1b29ca9",
   "metadata": {},
   "source": [
    "To graphically perform autocorrelation i use statsmodels.graphis package, in particular tsaplots.\n",
    "You can follow the code bellow to import the libraries that we need."
   ]
  },
  {
   "cell_type": "code",
   "execution_count": 47,
   "id": "886db4dd",
   "metadata": {},
   "outputs": [],
   "source": [
    "from statsmodels.graphics import tsaplots\n",
    "import matplotlib.pyplot as plt"
   ]
  },
  {
   "cell_type": "markdown",
   "id": "cad39a68",
   "metadata": {},
   "source": [
    "After that all the packages are imported without errors we can start:\n",
    "We have to define the variable associate with the graph, in this case we can call it fig:\n",
    "   \n",
    "   fig=tsaplots.plot_acf(our stock log return, lags=n,color='color')\n",
    "\n",
    "*The tsaplots.plot_acf represent the command that allow us to display tha autocorrelation.\n",
    "\n",
    "After the command you have to add (between curly brackets) the returns in this case Intel log returns.\n",
    "Chose how many lags we want; usually we set 100 lags.\n",
    "Decide which color apply, remember to put it between quotation marks \"\" .\n",
    "\n",
    "IMPORTANT: each input in the code have to be separated using the comma ,\n",
    "\n",
    "If you would like to increase the dimension of the graph use this command:\n",
    "              plt.rcParams[\"figure.figsize\"] = (12, 8)\n",
    "\n",
    "*Where the first input(x) is the lenght of the graph in this case 12 and the second (Y) is the height"
   ]
  },
  {
   "cell_type": "code",
   "execution_count": 52,
   "id": "71f9f04b",
   "metadata": {},
   "outputs": [
    {
     "data": {
      "image/png": "[encoded data removed]",
      "text/plain": [
       "<Figure size 864x576 with 1 Axes>"
      ]
     },
     "metadata": {
      "needs_background": "light"
     },
     "output_type": "display_data"
    }
   ],
   "source": [
    "fig = tsaplots.plot_acf(INTC_lret, lags=200, color='Blue')\n",
    "plt.xlabel('Lags')\n",
    "plt.ylabel('')\n",
    "plt.title('INTEL AUTOCORRELATION')\n",
    "plt.grid()\n",
    "plt.rcParams[\"figure.figsize\"] = (12, 8)\n",
    "plt.show()"
   ]
  },
  {
   "cell_type": "markdown",
   "id": "3040c2d0",
   "metadata": {},
   "source": [
    "Comment final result:\n",
    "\n",
    "How we can expect performing autocorrelation between log returns, we can clearly see how the first value is 1\n",
    "and after that all of the other points are around the zero suggesting the lack of the correlation between log returns.\n",
    "If the values were not near 0 we will be able to know how the stock will performe tommorow, however this is not possible, so if you have something that do not follow a similar path you have done some errors."
   ]
  },
  {
   "cell_type": "markdown",
   "id": "132ef22d",
   "metadata": {},
   "source": [
    "Autoccorelation with Log^(2)"
   ]
  },
  {
   "cell_type": "code",
   "execution_count": 51,
   "id": "a7aeac7d",
   "metadata": {},
   "outputs": [
    {
     "data": {
      "image/png": "[encoded data removed]",
      "text/plain": [
       "<Figure size 864x576 with 1 Axes>"
      ]
     },
     "metadata": {
      "needs_background": "light"
     },
     "output_type": "display_data"
    }
   ],
   "source": [
    "fig = tsaplots.plot_acf(INTC_lret**2, lags=100,color='Blue')\n",
    "plt.xlabel('Lags',fontsize=15)\n",
    "plt.ylabel('')\n",
    "plt.title('INTEL square log-ret AUTOCORRELATION 100 lags',fontsize=16)\n",
    "plt.grid()\n",
    "plt.rcParams[\"figure.figsize\"] = (12, 8)\n",
    "plt.show()"
   ]
  },
  {
   "cell_type": "markdown",
   "id": "d96ffb9c",
   "metadata": {},
   "source": [
    "Comment final result:\n",
    "If we will performe the same process but on the square log returns we can clearly see how different are the result, the graph underline an increase in terms of autocorrelation comparing with the simple log returns."
   ]
  }
 ],
 "metadata": {
  "kernelspec": {
   "display_name": "Python 3 (ipykernel)",
   "language": "python",
   "name": "python3"
  },
  "language_info": {
   "codemirror_mode": {
    "name": "ipython",
    "version": 3
   },
   "file_extension": ".py",
   "mimetype": "text/x-python",
   "name": "python",
   "nbconvert_exporter": "python",
   "pygments_lexer": "ipython3",
   "version": "3.9.12"
  }
 },
 "nbformat": 4,
 "nbformat_minor": 5
}
