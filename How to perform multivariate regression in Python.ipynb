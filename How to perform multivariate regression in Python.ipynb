{
 "cells": [
  {
   "cell_type": "markdown",
   "id": "3f8a5fac",
   "metadata": {},
   "source": [
    "# How to perform regression in python (OLS)"
   ]
  },
  {
   "cell_type": "markdown",
   "id": "d7ed0db6",
   "metadata": {},
   "source": [
    "In order to perform the regression i need to import some python libraries."
   ]
  },
  {
   "cell_type": "code",
   "execution_count": 1,
   "id": "b5b193f0",
   "metadata": {},
   "outputs": [
    {
     "name": "stdout",
     "output_type": "stream",
     "text": [
      "Requirement already satisfied: linearmodels in /opt/anaconda3/lib/python3.9/site-packages (4.27)\n",
      "Requirement already satisfied: numpy>=1.16 in /opt/anaconda3/lib/python3.9/site-packages (from linearmodels) (1.21.5)\n",
      "Requirement already satisfied: setuptools-scm<7.0.0,>=6.4.2 in /opt/anaconda3/lib/python3.9/site-packages (from linearmodels) (6.4.2)\n",
      "Requirement already satisfied: property-cached>=1.6.3 in /opt/anaconda3/lib/python3.9/site-packages (from linearmodels) (1.6.4)\n",
      "Requirement already satisfied: pandas>=0.24 in /opt/anaconda3/lib/python3.9/site-packages (from linearmodels) (1.4.2)\n",
      "Requirement already satisfied: pyhdfe>=0.1 in /opt/anaconda3/lib/python3.9/site-packages (from linearmodels) (0.1.0)\n",
      "Requirement already satisfied: formulaic~=0.3.2 in /opt/anaconda3/lib/python3.9/site-packages (from linearmodels) (0.3.4)\n",
      "Requirement already satisfied: statsmodels>=0.11 in /opt/anaconda3/lib/python3.9/site-packages (from linearmodels) (0.13.2)\n",
      "Requirement already satisfied: scipy>=1.2 in /opt/anaconda3/lib/python3.9/site-packages (from linearmodels) (1.7.3)\n",
      "Requirement already satisfied: mypy-extensions>=0.4 in /opt/anaconda3/lib/python3.9/site-packages (from linearmodels) (0.4.3)\n",
      "Requirement already satisfied: Cython>=0.29.21 in /opt/anaconda3/lib/python3.9/site-packages (from linearmodels) (0.29.28)\n",
      "Requirement already satisfied: astor>=0.8 in /opt/anaconda3/lib/python3.9/site-packages (from formulaic~=0.3.2->linearmodels) (0.8.1)\n",
      "Requirement already satisfied: wrapt>=1.0 in /opt/anaconda3/lib/python3.9/site-packages (from formulaic~=0.3.2->linearmodels) (1.12.1)\n",
      "Requirement already satisfied: interface-meta<2.0.0,>=1.2.0 in /opt/anaconda3/lib/python3.9/site-packages (from formulaic~=0.3.2->linearmodels) (1.3.0)\n",
      "Requirement already satisfied: python-dateutil>=2.8.1 in /opt/anaconda3/lib/python3.9/site-packages (from pandas>=0.24->linearmodels) (2.8.2)\n",
      "Requirement already satisfied: pytz>=2020.1 in /opt/anaconda3/lib/python3.9/site-packages (from pandas>=0.24->linearmodels) (2021.3)\n",
      "Requirement already satisfied: six>=1.5 in /opt/anaconda3/lib/python3.9/site-packages (from python-dateutil>=2.8.1->pandas>=0.24->linearmodels) (1.16.0)\n",
      "Requirement already satisfied: tomli>=1.0.0 in /opt/anaconda3/lib/python3.9/site-packages (from setuptools-scm<7.0.0,>=6.4.2->linearmodels) (1.2.2)\n",
      "Requirement already satisfied: setuptools in /opt/anaconda3/lib/python3.9/site-packages (from setuptools-scm<7.0.0,>=6.4.2->linearmodels) (61.2.0)\n",
      "Requirement already satisfied: packaging>=20.0 in /opt/anaconda3/lib/python3.9/site-packages (from setuptools-scm<7.0.0,>=6.4.2->linearmodels) (21.3)\n",
      "Requirement already satisfied: pyparsing!=3.0.5,>=2.0.2 in /opt/anaconda3/lib/python3.9/site-packages (from packaging>=20.0->setuptools-scm<7.0.0,>=6.4.2->linearmodels) (3.0.4)\n",
      "Requirement already satisfied: patsy>=0.5.2 in /opt/anaconda3/lib/python3.9/site-packages (from statsmodels>=0.11->linearmodels) (0.5.2)\n"
     ]
    }
   ],
   "source": [
    "!pip install linearmodels"
   ]
  },
  {
   "cell_type": "code",
   "execution_count": 2,
   "id": "6d2484c9",
   "metadata": {},
   "outputs": [],
   "source": [
    "import numpy as np\n",
    "import pandas as pd"
   ]
  },
  {
   "cell_type": "code",
   "execution_count": 3,
   "id": "2135767b",
   "metadata": {},
   "outputs": [],
   "source": [
    "import yfinance as yf"
   ]
  },
  {
   "cell_type": "markdown",
   "id": "3b116dd8",
   "metadata": {},
   "source": [
    "I use the Yahoo finace API in order to download directly the data from the web. We need the tickets of the stocks an also we have to define the period of time. the code is: data=yf.download(\"ticket\", start='initial data',end='ending data' progress=False)"
   ]
  },
  {
   "cell_type": "code",
   "execution_count": 4,
   "id": "45c7953d",
   "metadata": {},
   "outputs": [],
   "source": [
    "JPM= yf.download(\"JPM\", start= '2000-09-09', end= '2022-09-09', progress= False)"
   ]
  },
  {
   "cell_type": "code",
   "execution_count": 5,
   "id": "7fa5693c",
   "metadata": {},
   "outputs": [],
   "source": [
    "EUR_USD= yf.download(\"EURUSD=X\", start= '2000-09-09', end= '2022-09-09', progress= False)"
   ]
  },
  {
   "cell_type": "markdown",
   "id": "916fcb3b",
   "metadata": {},
   "source": [
    "I would like to see if EUR/USD exchange rate and Fed funds can explain JPM log returns."
   ]
  },
  {
   "cell_type": "code",
   "execution_count": 6,
   "id": "949fb8c0",
   "metadata": {},
   "outputs": [
    {
     "data": {
      "text/html": [
       "<div>\n",
       "<style scoped>\n",
       "    .dataframe tbody tr th:only-of-type {\n",
       "        vertical-align: middle;\n",
       "    }\n",
       "\n",
       "    .dataframe tbody tr th {\n",
       "        vertical-align: top;\n",
       "    }\n",
       "\n",
       "    .dataframe thead th {\n",
       "        text-align: right;\n",
       "    }\n",
       "</style>\n",
       "<table border=\"1\" class=\"dataframe\">\n",
       "  <thead>\n",
       "    <tr style=\"text-align: right;\">\n",
       "      <th></th>\n",
       "      <th>Open</th>\n",
       "      <th>High</th>\n",
       "      <th>Low</th>\n",
       "      <th>Close</th>\n",
       "      <th>Adj Close</th>\n",
       "      <th>Volume</th>\n",
       "    </tr>\n",
       "    <tr>\n",
       "      <th>Date</th>\n",
       "      <th></th>\n",
       "      <th></th>\n",
       "      <th></th>\n",
       "      <th></th>\n",
       "      <th></th>\n",
       "      <th></th>\n",
       "    </tr>\n",
       "  </thead>\n",
       "  <tbody>\n",
       "    <tr>\n",
       "      <th>2000-09-08</th>\n",
       "      <td>56.875</td>\n",
       "      <td>58.3125</td>\n",
       "      <td>56.75</td>\n",
       "      <td>57.8125</td>\n",
       "      <td>30.285322</td>\n",
       "      <td>4496500</td>\n",
       "    </tr>\n",
       "    <tr>\n",
       "      <th>2000-09-11</th>\n",
       "      <td>57.500</td>\n",
       "      <td>58.3750</td>\n",
       "      <td>56.50</td>\n",
       "      <td>57.5000</td>\n",
       "      <td>30.121624</td>\n",
       "      <td>5219500</td>\n",
       "    </tr>\n",
       "  </tbody>\n",
       "</table>\n",
       "</div>"
      ],
      "text/plain": [
       "              Open     High    Low    Close  Adj Close   Volume\n",
       "Date                                                           \n",
       "2000-09-08  56.875  58.3125  56.75  57.8125  30.285322  4496500\n",
       "2000-09-11  57.500  58.3750  56.50  57.5000  30.121624  5219500"
      ]
     },
     "execution_count": 6,
     "metadata": {},
     "output_type": "execute_result"
    }
   ],
   "source": [
    "JPM.head(2)"
   ]
  },
  {
   "cell_type": "code",
   "execution_count": 7,
   "id": "437d401c",
   "metadata": {},
   "outputs": [
    {
     "data": {
      "text/html": [
       "<div>\n",
       "<style scoped>\n",
       "    .dataframe tbody tr th:only-of-type {\n",
       "        vertical-align: middle;\n",
       "    }\n",
       "\n",
       "    .dataframe tbody tr th {\n",
       "        vertical-align: top;\n",
       "    }\n",
       "\n",
       "    .dataframe thead th {\n",
       "        text-align: right;\n",
       "    }\n",
       "</style>\n",
       "<table border=\"1\" class=\"dataframe\">\n",
       "  <thead>\n",
       "    <tr style=\"text-align: right;\">\n",
       "      <th></th>\n",
       "      <th>Open</th>\n",
       "      <th>High</th>\n",
       "      <th>Low</th>\n",
       "      <th>Close</th>\n",
       "      <th>Adj Close</th>\n",
       "      <th>Volume</th>\n",
       "    </tr>\n",
       "    <tr>\n",
       "      <th>Date</th>\n",
       "      <th></th>\n",
       "      <th></th>\n",
       "      <th></th>\n",
       "      <th></th>\n",
       "      <th></th>\n",
       "      <th></th>\n",
       "    </tr>\n",
       "  </thead>\n",
       "  <tbody>\n",
       "    <tr>\n",
       "      <th>2003-12-01</th>\n",
       "      <td>1.203398</td>\n",
       "      <td>1.204007</td>\n",
       "      <td>1.194401</td>\n",
       "      <td>1.196501</td>\n",
       "      <td>1.196501</td>\n",
       "      <td>0</td>\n",
       "    </tr>\n",
       "    <tr>\n",
       "      <th>2003-12-02</th>\n",
       "      <td>1.196101</td>\n",
       "      <td>1.210903</td>\n",
       "      <td>1.194600</td>\n",
       "      <td>1.208897</td>\n",
       "      <td>1.208897</td>\n",
       "      <td>0</td>\n",
       "    </tr>\n",
       "  </tbody>\n",
       "</table>\n",
       "</div>"
      ],
      "text/plain": [
       "                Open      High       Low     Close  Adj Close  Volume\n",
       "Date                                                                 \n",
       "2003-12-01  1.203398  1.204007  1.194401  1.196501   1.196501       0\n",
       "2003-12-02  1.196101  1.210903  1.194600  1.208897   1.208897       0"
      ]
     },
     "execution_count": 7,
     "metadata": {},
     "output_type": "execute_result"
    }
   ],
   "source": [
    "EUR_USD.head(2)"
   ]
  },
  {
   "cell_type": "markdown",
   "id": "e6719f9a",
   "metadata": {},
   "source": [
    "In ordert to display the data we use .head() that can be use with dataframe objects, if you want to display more or less lines you can add the number between brackets. example: varibles.head(10) for the first ten lines. The code for display the last lines(if you have dataframe) is .tail() and it works as .head()"
   ]
  },
  {
   "cell_type": "markdown",
   "id": "5dd3e6b1",
   "metadata": {},
   "source": [
    "In order to import Fed Funds i have dowloaded from FREED website in xlsx format and i adjusted manually on the excel sheet ( i only create 2 columns one with the Fed funds and one with the dates).\n",
    "Import a excel file is not difficult if you use pandas library follow the following code:\n",
    "\n",
    "pd.read_excel('/USER/...../name of the file.xlsx', index_col='date')  \n",
    "\n",
    "If you have csv file you have to use this code:\n",
    "\n",
    "pd.DataFrame = pd.read_csv(\"/Users/.../name of the file.csv\", index_col=\"Date\", decimal=\",\",sep=\";\")\n",
    "\n",
    "IMPORTANT : write the correct file path if you use windows you have probably to reverse \\ to /"
   ]
  },
  {
   "cell_type": "code",
   "execution_count": 8,
   "id": "ceeabb0f",
   "metadata": {},
   "outputs": [
    {
     "data": {
      "text/html": [
       "<div>\n",
       "<style scoped>\n",
       "    .dataframe tbody tr th:only-of-type {\n",
       "        vertical-align: middle;\n",
       "    }\n",
       "\n",
       "    .dataframe tbody tr th {\n",
       "        vertical-align: top;\n",
       "    }\n",
       "\n",
       "    .dataframe thead th {\n",
       "        text-align: right;\n",
       "    }\n",
       "</style>\n",
       "<table border=\"1\" class=\"dataframe\">\n",
       "  <thead>\n",
       "    <tr style=\"text-align: right;\">\n",
       "      <th></th>\n",
       "      <th>FED FUNDS</th>\n",
       "    </tr>\n",
       "    <tr>\n",
       "      <th>date</th>\n",
       "      <th></th>\n",
       "    </tr>\n",
       "  </thead>\n",
       "  <tbody>\n",
       "    <tr>\n",
       "      <th>2000-09-09</th>\n",
       "      <td>6.5</td>\n",
       "    </tr>\n",
       "    <tr>\n",
       "      <th>2000-09-10</th>\n",
       "      <td>6.5</td>\n",
       "    </tr>\n",
       "  </tbody>\n",
       "</table>\n",
       "</div>"
      ],
      "text/plain": [
       "            FED FUNDS\n",
       "date                 \n",
       "2000-09-09        6.5\n",
       "2000-09-10        6.5"
      ]
     },
     "execution_count": 8,
     "metadata": {},
     "output_type": "execute_result"
    }
   ],
   "source": [
    "Fedfunds:pd.DataFrame=pd.read_excel('/Users/niccolomassoni/Desktop/FEDFUNDS2000-2022.xlsx', index_col='date')\n",
    "Fedfunds.head(2)"
   ]
  },
  {
   "cell_type": "markdown",
   "id": "fca7adfd",
   "metadata": {},
   "source": [
    "If we want work with the return and log-return we need to extract the Close price of each stocks, we can select all the data using the pandas command .loc[:,['Name of the columns']] . if we want more than one data we can add the name of differetn columns. example: .loc[:,['col 1','col 2]]"
   ]
  },
  {
   "cell_type": "code",
   "execution_count": 9,
   "id": "5b8ad0d4",
   "metadata": {},
   "outputs": [],
   "source": [
    "JPM_Close=JPM.loc[:,['Close']]"
   ]
  },
  {
   "cell_type": "code",
   "execution_count": 10,
   "id": "ac79ddcf",
   "metadata": {},
   "outputs": [],
   "source": [
    "EUR_USD_Close=EUR_USD.loc[:,['Close']]"
   ]
  },
  {
   "cell_type": "markdown",
   "id": "7afe24b3",
   "metadata": {},
   "source": [
    "We can use the concat command in order to create a dataframe in which we can add all of the single stocks close prices,in this way we can have a table of data that can be easily visualized and used to calculate with only one line code the log returns. The concat function command is pd.concat([variables,...1,...2], join='inner',axis='1') . In order to avoid confusion we have to rename the columns, the command is .columns=['name1','name2'....] is important to follow the same order of the variables."
   ]
  },
  {
   "cell_type": "code",
   "execution_count": 11,
   "id": "d0f20b00",
   "metadata": {},
   "outputs": [
    {
     "data": {
      "text/html": [
       "<div>\n",
       "<style scoped>\n",
       "    .dataframe tbody tr th:only-of-type {\n",
       "        vertical-align: middle;\n",
       "    }\n",
       "\n",
       "    .dataframe tbody tr th {\n",
       "        vertical-align: top;\n",
       "    }\n",
       "\n",
       "    .dataframe thead th {\n",
       "        text-align: right;\n",
       "    }\n",
       "</style>\n",
       "<table border=\"1\" class=\"dataframe\">\n",
       "  <thead>\n",
       "    <tr style=\"text-align: right;\">\n",
       "      <th></th>\n",
       "      <th>EUR USD</th>\n",
       "      <th>JPM</th>\n",
       "    </tr>\n",
       "    <tr>\n",
       "      <th>Date</th>\n",
       "      <th></th>\n",
       "      <th></th>\n",
       "    </tr>\n",
       "  </thead>\n",
       "  <tbody>\n",
       "    <tr>\n",
       "      <th>2003-12-01</th>\n",
       "      <td>1.196501</td>\n",
       "      <td>35.660000</td>\n",
       "    </tr>\n",
       "    <tr>\n",
       "      <th>2003-12-02</th>\n",
       "      <td>1.208897</td>\n",
       "      <td>35.810001</td>\n",
       "    </tr>\n",
       "  </tbody>\n",
       "</table>\n",
       "</div>"
      ],
      "text/plain": [
       "             EUR USD        JPM\n",
       "Date                           \n",
       "2003-12-01  1.196501  35.660000\n",
       "2003-12-02  1.208897  35.810001"
      ]
     },
     "execution_count": 11,
     "metadata": {},
     "output_type": "execute_result"
    }
   ],
   "source": [
    "data:pd.DataFrame=pd.concat([EUR_USD_Close,JPM_Close], join='inner', axis=1 )\n",
    "data.columns=['EUR USD', 'JPM']\n",
    "data.head(2)"
   ]
  },
  {
   "cell_type": "markdown",
   "id": "7984e064",
   "metadata": {},
   "source": [
    "In finance we can use the log-returns that can give a better graphical rappresentation of the data. After have built a dataframe with all the close prices, we can use this code to obtain all the log-returns for the single stocks. The command is np.log(varible).diff().dropna() the second part of the code .diff() allow us to obtain the returns that are the difference between the log_prices time t+1 - log_prices time t. The use of .dropna() is also important to delete the nan line(not define value) that we will have due to the loss of the first observation ."
   ]
  },
  {
   "cell_type": "code",
   "execution_count": 12,
   "id": "ea4d93e6",
   "metadata": {},
   "outputs": [
    {
     "data": {
      "text/html": [
       "<div>\n",
       "<style scoped>\n",
       "    .dataframe tbody tr th:only-of-type {\n",
       "        vertical-align: middle;\n",
       "    }\n",
       "\n",
       "    .dataframe tbody tr th {\n",
       "        vertical-align: top;\n",
       "    }\n",
       "\n",
       "    .dataframe thead th {\n",
       "        text-align: right;\n",
       "    }\n",
       "</style>\n",
       "<table border=\"1\" class=\"dataframe\">\n",
       "  <thead>\n",
       "    <tr style=\"text-align: right;\">\n",
       "      <th></th>\n",
       "      <th>EUR USD</th>\n",
       "      <th>JPM</th>\n",
       "    </tr>\n",
       "    <tr>\n",
       "      <th>Date</th>\n",
       "      <th></th>\n",
       "      <th></th>\n",
       "    </tr>\n",
       "  </thead>\n",
       "  <tbody>\n",
       "    <tr>\n",
       "      <th>2003-12-01</th>\n",
       "      <td>1.196501</td>\n",
       "      <td>35.660000</td>\n",
       "    </tr>\n",
       "    <tr>\n",
       "      <th>2003-12-02</th>\n",
       "      <td>1.208897</td>\n",
       "      <td>35.810001</td>\n",
       "    </tr>\n",
       "  </tbody>\n",
       "</table>\n",
       "</div>"
      ],
      "text/plain": [
       "             EUR USD        JPM\n",
       "Date                           \n",
       "2003-12-01  1.196501  35.660000\n",
       "2003-12-02  1.208897  35.810001"
      ]
     },
     "execution_count": 12,
     "metadata": {},
     "output_type": "execute_result"
    }
   ],
   "source": [
    "data_lret=np.log(data).diff().dropna()\n",
    "data.head(2)"
   ]
  },
  {
   "cell_type": "markdown",
   "id": "a7dd612a",
   "metadata": {},
   "source": [
    "I export the JPM logreturn that i will use as Y in my regression."
   ]
  },
  {
   "cell_type": "code",
   "execution_count": 13,
   "id": "f8881f18",
   "metadata": {},
   "outputs": [
    {
     "data": {
      "text/html": [
       "<div>\n",
       "<style scoped>\n",
       "    .dataframe tbody tr th:only-of-type {\n",
       "        vertical-align: middle;\n",
       "    }\n",
       "\n",
       "    .dataframe tbody tr th {\n",
       "        vertical-align: top;\n",
       "    }\n",
       "\n",
       "    .dataframe thead th {\n",
       "        text-align: right;\n",
       "    }\n",
       "</style>\n",
       "<table border=\"1\" class=\"dataframe\">\n",
       "  <thead>\n",
       "    <tr style=\"text-align: right;\">\n",
       "      <th></th>\n",
       "      <th>JPM</th>\n",
       "    </tr>\n",
       "    <tr>\n",
       "      <th>Date</th>\n",
       "      <th></th>\n",
       "    </tr>\n",
       "  </thead>\n",
       "  <tbody>\n",
       "    <tr>\n",
       "      <th>2003-12-02</th>\n",
       "      <td>0.004198</td>\n",
       "    </tr>\n",
       "    <tr>\n",
       "      <th>2003-12-03</th>\n",
       "      <td>-0.000279</td>\n",
       "    </tr>\n",
       "  </tbody>\n",
       "</table>\n",
       "</div>"
      ],
      "text/plain": [
       "                 JPM\n",
       "Date                \n",
       "2003-12-02  0.004198\n",
       "2003-12-03 -0.000279"
      ]
     },
     "execution_count": 13,
     "metadata": {},
     "output_type": "execute_result"
    }
   ],
   "source": [
    "JPM_lret=data_lret.loc[:,['JPM']]\n",
    "JPM_lret.head(2)"
   ]
  },
  {
   "cell_type": "markdown",
   "id": "903317b0",
   "metadata": {},
   "source": [
    "I don't need to recreate a new dataframe, i can use the previous one dropping the JPM log return column.\n",
    "This command can be used when you are working with dataframe and it is:\n",
    "your_variable.drop(columns=['name of the column'])"
   ]
  },
  {
   "cell_type": "code",
   "execution_count": 14,
   "id": "66e58dfa",
   "metadata": {},
   "outputs": [
    {
     "data": {
      "text/html": [
       "<div>\n",
       "<style scoped>\n",
       "    .dataframe tbody tr th:only-of-type {\n",
       "        vertical-align: middle;\n",
       "    }\n",
       "\n",
       "    .dataframe tbody tr th {\n",
       "        vertical-align: top;\n",
       "    }\n",
       "\n",
       "    .dataframe thead th {\n",
       "        text-align: right;\n",
       "    }\n",
       "</style>\n",
       "<table border=\"1\" class=\"dataframe\">\n",
       "  <thead>\n",
       "    <tr style=\"text-align: right;\">\n",
       "      <th></th>\n",
       "      <th>EUR USD</th>\n",
       "    </tr>\n",
       "    <tr>\n",
       "      <th>Date</th>\n",
       "      <th></th>\n",
       "    </tr>\n",
       "  </thead>\n",
       "  <tbody>\n",
       "    <tr>\n",
       "      <th>2003-12-02</th>\n",
       "      <td>0.010307</td>\n",
       "    </tr>\n",
       "    <tr>\n",
       "      <th>2003-12-03</th>\n",
       "      <td>0.002809</td>\n",
       "    </tr>\n",
       "  </tbody>\n",
       "</table>\n",
       "</div>"
      ],
      "text/plain": [
       "             EUR USD\n",
       "Date                \n",
       "2003-12-02  0.010307\n",
       "2003-12-03  0.002809"
      ]
     },
     "execution_count": 14,
     "metadata": {},
     "output_type": "execute_result"
    }
   ],
   "source": [
    "EURUSD_lret=data_lret.drop(columns=['JPM'])\n",
    "EURUSD_lret.head(2)"
   ]
  },
  {
   "cell_type": "markdown",
   "id": "66fcd90b",
   "metadata": {},
   "source": [
    "I start to create the matrix for the explanatory variables in this case EUR USD exchange rate (log returns) and FED funds."
   ]
  },
  {
   "cell_type": "code",
   "execution_count": 15,
   "id": "5f2773dd",
   "metadata": {},
   "outputs": [
    {
     "data": {
      "text/html": [
       "<div>\n",
       "<style scoped>\n",
       "    .dataframe tbody tr th:only-of-type {\n",
       "        vertical-align: middle;\n",
       "    }\n",
       "\n",
       "    .dataframe tbody tr th {\n",
       "        vertical-align: top;\n",
       "    }\n",
       "\n",
       "    .dataframe thead th {\n",
       "        text-align: right;\n",
       "    }\n",
       "</style>\n",
       "<table border=\"1\" class=\"dataframe\">\n",
       "  <thead>\n",
       "    <tr style=\"text-align: right;\">\n",
       "      <th></th>\n",
       "      <th>EUR USD</th>\n",
       "      <th>FED FUNDS</th>\n",
       "    </tr>\n",
       "  </thead>\n",
       "  <tbody>\n",
       "    <tr>\n",
       "      <th>2003-12-02</th>\n",
       "      <td>0.010307</td>\n",
       "      <td>0.97</td>\n",
       "    </tr>\n",
       "    <tr>\n",
       "      <th>2003-12-03</th>\n",
       "      <td>0.002809</td>\n",
       "      <td>0.98</td>\n",
       "    </tr>\n",
       "  </tbody>\n",
       "</table>\n",
       "</div>"
      ],
      "text/plain": [
       "             EUR USD  FED FUNDS\n",
       "2003-12-02  0.010307       0.97\n",
       "2003-12-03  0.002809       0.98"
      ]
     },
     "execution_count": 15,
     "metadata": {},
     "output_type": "execute_result"
    }
   ],
   "source": [
    "X= pd.concat([EURUSD_lret,Fedfunds], join='inner', axis=1 )\n",
    "X.head(2)"
   ]
  },
  {
   "cell_type": "markdown",
   "id": "9218b990",
   "metadata": {},
   "source": [
    "In order to perform Regression we need to insert a costant value.\n",
    "We use .insert(0,'Constant',1,allow_duplicates=True) command; the first input is the position where we want \n",
    "to add the value, the second one is the name of the column, the third is the variable in this case 1. \n",
    "We need also to define if we want duplicates, in this case is True becouse we are working with a constant."
   ]
  },
  {
   "cell_type": "code",
   "execution_count": 16,
   "id": "31ff8fb8",
   "metadata": {},
   "outputs": [],
   "source": [
    "X.insert(0,'Constant',1,allow_duplicates=True)"
   ]
  },
  {
   "cell_type": "code",
   "execution_count": 17,
   "id": "42b51451",
   "metadata": {},
   "outputs": [
    {
     "data": {
      "text/html": [
       "<div>\n",
       "<style scoped>\n",
       "    .dataframe tbody tr th:only-of-type {\n",
       "        vertical-align: middle;\n",
       "    }\n",
       "\n",
       "    .dataframe tbody tr th {\n",
       "        vertical-align: top;\n",
       "    }\n",
       "\n",
       "    .dataframe thead th {\n",
       "        text-align: right;\n",
       "    }\n",
       "</style>\n",
       "<table border=\"1\" class=\"dataframe\">\n",
       "  <thead>\n",
       "    <tr style=\"text-align: right;\">\n",
       "      <th></th>\n",
       "      <th>Constant</th>\n",
       "      <th>EUR USD</th>\n",
       "      <th>FED FUNDS</th>\n",
       "    </tr>\n",
       "  </thead>\n",
       "  <tbody>\n",
       "    <tr>\n",
       "      <th>2003-12-02</th>\n",
       "      <td>1</td>\n",
       "      <td>0.010307</td>\n",
       "      <td>0.97</td>\n",
       "    </tr>\n",
       "    <tr>\n",
       "      <th>2003-12-03</th>\n",
       "      <td>1</td>\n",
       "      <td>0.002809</td>\n",
       "      <td>0.98</td>\n",
       "    </tr>\n",
       "  </tbody>\n",
       "</table>\n",
       "</div>"
      ],
      "text/plain": [
       "            Constant   EUR USD  FED FUNDS\n",
       "2003-12-02         1  0.010307       0.97\n",
       "2003-12-03         1  0.002809       0.98"
      ]
     },
     "execution_count": 17,
     "metadata": {},
     "output_type": "execute_result"
    }
   ],
   "source": [
    "X.head(2)"
   ]
  },
  {
   "cell_type": "code",
   "execution_count": 18,
   "id": "22fc27c5",
   "metadata": {},
   "outputs": [],
   "source": [
    "Y=JPM_lret"
   ]
  },
  {
   "cell_type": "markdown",
   "id": "abe6d773",
   "metadata": {},
   "source": [
    "Before performing the computation of the coefficients we have to be sure that all the input have the same size."
   ]
  },
  {
   "cell_type": "code",
   "execution_count": 19,
   "id": "6146e3c4",
   "metadata": {},
   "outputs": [
    {
     "data": {
      "text/plain": [
       "4696"
      ]
     },
     "execution_count": 19,
     "metadata": {},
     "output_type": "execute_result"
    }
   ],
   "source": [
    "len(Y)"
   ]
  },
  {
   "cell_type": "code",
   "execution_count": 20,
   "id": "c16ba0a6",
   "metadata": {},
   "outputs": [
    {
     "data": {
      "text/plain": [
       "4696"
      ]
     },
     "execution_count": 20,
     "metadata": {},
     "output_type": "execute_result"
    }
   ],
   "source": [
    "len(X)"
   ]
  },
  {
   "cell_type": "markdown",
   "id": "0f2aced2",
   "metadata": {},
   "source": [
    "I define my Beta OLS that is a vector (In this case of 3x1).\n",
    "The formula is (X'X)^(-1)@X'Y, the command to transpose the matrix is .T or .transpose()"
   ]
  },
  {
   "cell_type": "code",
   "execution_count": 21,
   "id": "e0587405",
   "metadata": {},
   "outputs": [],
   "source": [
    "coeffs=np.linalg.inv(X.T@X)@X.T@Y"
   ]
  },
  {
   "cell_type": "code",
   "execution_count": 22,
   "id": "e46c600d",
   "metadata": {},
   "outputs": [
    {
     "data": {
      "text/html": [
       "<div>\n",
       "<style scoped>\n",
       "    .dataframe tbody tr th:only-of-type {\n",
       "        vertical-align: middle;\n",
       "    }\n",
       "\n",
       "    .dataframe tbody tr th {\n",
       "        vertical-align: top;\n",
       "    }\n",
       "\n",
       "    .dataframe thead th {\n",
       "        text-align: right;\n",
       "    }\n",
       "</style>\n",
       "<table border=\"1\" class=\"dataframe\">\n",
       "  <thead>\n",
       "    <tr style=\"text-align: right;\">\n",
       "      <th></th>\n",
       "      <th>JPM</th>\n",
       "    </tr>\n",
       "  </thead>\n",
       "  <tbody>\n",
       "    <tr>\n",
       "      <th>Constant</th>\n",
       "      <td>0.000409</td>\n",
       "    </tr>\n",
       "    <tr>\n",
       "      <th>EUR USD</th>\n",
       "      <td>0.343014</td>\n",
       "    </tr>\n",
       "    <tr>\n",
       "      <th>FED FUNDS</th>\n",
       "      <td>-0.000111</td>\n",
       "    </tr>\n",
       "  </tbody>\n",
       "</table>\n",
       "</div>"
      ],
      "text/plain": [
       "                JPM\n",
       "Constant   0.000409\n",
       "EUR USD    0.343014\n",
       "FED FUNDS -0.000111"
      ]
     },
     "execution_count": 22,
     "metadata": {},
     "output_type": "execute_result"
    }
   ],
   "source": [
    "coeffs.index=X.columns\n",
    "coeffs.head()"
   ]
  },
  {
   "cell_type": "markdown",
   "id": "476a0caf",
   "metadata": {},
   "source": [
    "Now i can calculate the fitted value of Y for Beta "
   ]
  },
  {
   "cell_type": "code",
   "execution_count": 23,
   "id": "0179eb6e",
   "metadata": {},
   "outputs": [],
   "source": [
    "Y_hat=X@coeffs"
   ]
  },
  {
   "cell_type": "code",
   "execution_count": 24,
   "id": "ebfc1a04",
   "metadata": {},
   "outputs": [
    {
     "data": {
      "text/html": [
       "<div>\n",
       "<style scoped>\n",
       "    .dataframe tbody tr th:only-of-type {\n",
       "        vertical-align: middle;\n",
       "    }\n",
       "\n",
       "    .dataframe tbody tr th {\n",
       "        vertical-align: top;\n",
       "    }\n",
       "\n",
       "    .dataframe thead th {\n",
       "        text-align: right;\n",
       "    }\n",
       "</style>\n",
       "<table border=\"1\" class=\"dataframe\">\n",
       "  <thead>\n",
       "    <tr style=\"text-align: right;\">\n",
       "      <th></th>\n",
       "      <th>JPM</th>\n",
       "    </tr>\n",
       "  </thead>\n",
       "  <tbody>\n",
       "    <tr>\n",
       "      <th>2003-12-02</th>\n",
       "      <td>0.003837</td>\n",
       "    </tr>\n",
       "    <tr>\n",
       "      <th>2003-12-03</th>\n",
       "      <td>0.001264</td>\n",
       "    </tr>\n",
       "  </tbody>\n",
       "</table>\n",
       "</div>"
      ],
      "text/plain": [
       "                 JPM\n",
       "2003-12-02  0.003837\n",
       "2003-12-03  0.001264"
      ]
     },
     "execution_count": 24,
     "metadata": {},
     "output_type": "execute_result"
    }
   ],
   "source": [
    "Y_hat.head(2)"
   ]
  },
  {
   "cell_type": "markdown",
   "id": "c644bf03",
   "metadata": {},
   "source": [
    "We can give a graphical representation of JPM log return and JPM fitted value"
   ]
  },
  {
   "cell_type": "code",
   "execution_count": 55,
   "id": "02e02716",
   "metadata": {},
   "outputs": [],
   "source": [
    "import matplotlib.pyplot as plt"
   ]
  },
  {
   "cell_type": "code",
   "execution_count": 65,
   "id": "13c6b745",
   "metadata": {},
   "outputs": [
    {
     "data": {
      "text/plain": [
       "Text(0.5, 1.0, 'JPM log return vs fitted value')"
      ]
     },
     "execution_count": 65,
     "metadata": {},
     "output_type": "execute_result"
    },
    {
     "data": {
      "image/png": "[encoded data removed]",
      "text/plain": [
       "<Figure size 432x288 with 1 Axes>"
      ]
     },
     "metadata": {
      "needs_background": "light"
     },
     "output_type": "display_data"
    }
   ],
   "source": [
    "plt.plot(Y,color='red')\n",
    "plt.plot(Y_hat,color='Blue')\n",
    "plt.xlabel('Date')\n",
    "plt.ylabel('log return')\n",
    "plt.title('JPM log return vs fitted value')"
   ]
  },
  {
   "cell_type": "markdown",
   "id": "557a8b47",
   "metadata": {},
   "source": [
    "An useful graph cold be related to residual"
   ]
  },
  {
   "cell_type": "code",
   "execution_count": 72,
   "id": "65ddef64",
   "metadata": {},
   "outputs": [
    {
     "data": {
      "text/plain": [
       "Text(0.5, 1.0, 'JPM log return vs fitted value')"
      ]
     },
     "execution_count": 72,
     "metadata": {},
     "output_type": "execute_result"
    },
    {
     "data": {
      "image/png": "[encoded data removed]",
      "text/plain": [
       "<Figure size 432x288 with 1 Axes>"
      ]
     },
     "metadata": {
      "needs_background": "light"
     },
     "output_type": "display_data"
    }
   ],
   "source": [
    "plt.plot(res,color='black')\n",
    "plt.xlabel('Date')\n",
    "plt.ylabel('log return')\n",
    "plt.title('JPM log return vs fitted value')"
   ]
  },
  {
   "cell_type": "markdown",
   "id": "76aab54d",
   "metadata": {},
   "source": [
    "We can also find the mean of JPM logreturns."
   ]
  },
  {
   "cell_type": "code",
   "execution_count": 25,
   "id": "c1c78c49",
   "metadata": {},
   "outputs": [
    {
     "name": "stderr",
     "output_type": "stream",
     "text": [
      "/opt/anaconda3/lib/python3.9/site-packages/numpy/core/fromnumeric.py:3438: FutureWarning: In a future version, DataFrame.mean(axis=None) will return a scalar mean over the entire DataFrame. To retain the old behavior, use 'frame.mean(axis=0)' or just 'frame.mean()'\n",
      "  return mean(axis=axis, dtype=dtype, out=out, **kwargs)\n"
     ]
    },
    {
     "data": {
      "text/plain": [
       "JPM    0.000256\n",
       "dtype: float64"
      ]
     },
     "execution_count": 25,
     "metadata": {},
     "output_type": "execute_result"
    }
   ],
   "source": [
    "Y_mean=np.mean(Y)\n",
    "Y_mean.head(1)"
   ]
  },
  {
   "cell_type": "markdown",
   "id": "3487ac7e",
   "metadata": {},
   "source": [
    "Now we can define the residues Y-Y_hat and RSS,TSS,ESS and Rsquare."
   ]
  },
  {
   "cell_type": "code",
   "execution_count": 26,
   "id": "982eb9ed",
   "metadata": {},
   "outputs": [],
   "source": [
    "res = Y - Y_hat \n",
    "RSS = (res.T @ res)"
   ]
  },
  {
   "cell_type": "code",
   "execution_count": 27,
   "id": "99d4ad7d",
   "metadata": {},
   "outputs": [],
   "source": [
    "TSS = ((Y - Y_mean).T @ (Y - Y_mean))\n",
    "ESS = ((Y_hat - Y_mean).T @ (Y_hat - Y_mean))"
   ]
  },
  {
   "cell_type": "code",
   "execution_count": 28,
   "id": "07dae1d0",
   "metadata": {},
   "outputs": [],
   "source": [
    "R_2 = 1-(RSS/TSS)  "
   ]
  },
  {
   "cell_type": "code",
   "execution_count": 29,
   "id": "c04d858e",
   "metadata": {},
   "outputs": [],
   "source": [
    "R_2_ = (ESS/TSS)"
   ]
  },
  {
   "cell_type": "code",
   "execution_count": 30,
   "id": "6150f668",
   "metadata": {},
   "outputs": [
    {
     "data": {
      "text/html": [
       "<div>\n",
       "<style scoped>\n",
       "    .dataframe tbody tr th:only-of-type {\n",
       "        vertical-align: middle;\n",
       "    }\n",
       "\n",
       "    .dataframe tbody tr th {\n",
       "        vertical-align: top;\n",
       "    }\n",
       "\n",
       "    .dataframe thead th {\n",
       "        text-align: right;\n",
       "    }\n",
       "</style>\n",
       "<table border=\"1\" class=\"dataframe\">\n",
       "  <thead>\n",
       "    <tr style=\"text-align: right;\">\n",
       "      <th></th>\n",
       "      <th>RSS</th>\n",
       "      <th>ESS</th>\n",
       "      <th>TSS</th>\n",
       "      <th>R square</th>\n",
       "    </tr>\n",
       "  </thead>\n",
       "  <tbody>\n",
       "    <tr>\n",
       "      <th>JPM</th>\n",
       "      <td>2.469238</td>\n",
       "      <td>0.030402</td>\n",
       "      <td>2.49964</td>\n",
       "      <td>0.012163</td>\n",
       "    </tr>\n",
       "  </tbody>\n",
       "</table>\n",
       "</div>"
      ],
      "text/plain": [
       "          RSS       ESS      TSS  R square\n",
       "JPM  2.469238  0.030402  2.49964  0.012163"
      ]
     },
     "execution_count": 30,
     "metadata": {},
     "output_type": "execute_result"
    }
   ],
   "source": [
    "Observation=pd.concat([RSS,ESS,TSS,R_2],join='inner',axis=1)\n",
    "Observation.columns=['RSS','ESS','TSS','R square']\n",
    "Observation.head()"
   ]
  },
  {
   "cell_type": "markdown",
   "id": "7e6cf99a",
   "metadata": {},
   "source": [
    "We can also calculate the variance/covariance matrix.\n",
    "First we need the variance that can be calculated by dividing RSS with the the difference between \n",
    "T and K where they respectively represent the numer of data for each column and the number of regressor"
   ]
  },
  {
   "cell_type": "code",
   "execution_count": 32,
   "id": "5e3134c6",
   "metadata": {},
   "outputs": [
    {
     "name": "stdout",
     "output_type": "stream",
     "text": [
      "4696 3\n"
     ]
    }
   ],
   "source": [
    "T = X.shape[0] \n",
    "K = X.shape[1] \n",
    "print(T,K)"
   ]
  },
  {
   "cell_type": "code",
   "execution_count": 33,
   "id": "a9d5212b",
   "metadata": {},
   "outputs": [],
   "source": [
    "sig_2 = RSS/(T-K)"
   ]
  },
  {
   "cell_type": "markdown",
   "id": "2e14e620",
   "metadata": {},
   "source": [
    "Now we have all the input for the Var_Cov matrix:\n",
    "We use the formula: variance*(X'X)^(-1).\n",
    "In order to avoid error is usually better covert the dataFrame in a numpy object."
   ]
  },
  {
   "cell_type": "code",
   "execution_count": 43,
   "id": "33a35935",
   "metadata": {},
   "outputs": [],
   "source": [
    "sig_2=sig_2.to_numpy()"
   ]
  },
  {
   "cell_type": "code",
   "execution_count": 46,
   "id": "fe63f1c7",
   "metadata": {},
   "outputs": [
    {
     "name": "stdout",
     "output_type": "stream",
     "text": [
      "[[ 1.82179098e-07  2.80110737e-07 -5.52906188e-08]\n",
      " [ 2.80110737e-07  2.04193875e-03 -1.59200726e-07]\n",
      " [-5.52906188e-08 -1.59200726e-07  4.35892250e-08]]\n"
     ]
    }
   ],
   "source": [
    "var_cov= (np.linalg.inv(X.T @ X) * sig_2)\n",
    "print(var_cov)"
   ]
  },
  {
   "cell_type": "markdown",
   "id": "c25378f8",
   "metadata": {},
   "source": [
    "In order to obtain the conditional standard deviation we have to do the square root of the elements on the diagonal"
   ]
  },
  {
   "cell_type": "code",
   "execution_count": 48,
   "id": "5fcf45c1",
   "metadata": {},
   "outputs": [
    {
     "data": {
      "text/plain": [
       "array([0.00042682, 0.04518782, 0.00020878])"
      ]
     },
     "execution_count": 48,
     "metadata": {},
     "output_type": "execute_result"
    }
   ],
   "source": [
    "standard_errors = np.sqrt(np.diag(var_cov)) \n",
    "standard_errors"
   ]
  },
  {
   "cell_type": "code",
   "execution_count": 49,
   "id": "42fb9fb8",
   "metadata": {},
   "outputs": [
    {
     "data": {
      "text/html": [
       "<div>\n",
       "<style scoped>\n",
       "    .dataframe tbody tr th:only-of-type {\n",
       "        vertical-align: middle;\n",
       "    }\n",
       "\n",
       "    .dataframe tbody tr th {\n",
       "        vertical-align: top;\n",
       "    }\n",
       "\n",
       "    .dataframe thead th {\n",
       "        text-align: right;\n",
       "    }\n",
       "</style>\n",
       "<table border=\"1\" class=\"dataframe\">\n",
       "  <thead>\n",
       "    <tr style=\"text-align: right;\">\n",
       "      <th></th>\n",
       "      <th>JPM</th>\n",
       "      <th>S.E.</th>\n",
       "    </tr>\n",
       "  </thead>\n",
       "  <tbody>\n",
       "    <tr>\n",
       "      <th>Constant</th>\n",
       "      <td>0.000409</td>\n",
       "      <td>0.000427</td>\n",
       "    </tr>\n",
       "    <tr>\n",
       "      <th>EUR USD</th>\n",
       "      <td>0.343014</td>\n",
       "      <td>0.045188</td>\n",
       "    </tr>\n",
       "    <tr>\n",
       "      <th>FED FUNDS</th>\n",
       "      <td>-0.000111</td>\n",
       "      <td>0.000209</td>\n",
       "    </tr>\n",
       "  </tbody>\n",
       "</table>\n",
       "</div>"
      ],
      "text/plain": [
       "                JPM      S.E.\n",
       "Constant   0.000409  0.000427\n",
       "EUR USD    0.343014  0.045188\n",
       "FED FUNDS -0.000111  0.000209"
      ]
     },
     "execution_count": 49,
     "metadata": {},
     "output_type": "execute_result"
    }
   ],
   "source": [
    "coeffs[\"S.E.\"] = standard_errors \n",
    "coeffs"
   ]
  },
  {
   "cell_type": "code",
   "execution_count": null,
   "id": "04dccbe3",
   "metadata": {},
   "outputs": [],
   "source": []
  }
 ],
 "metadata": {
  "kernelspec": {
   "display_name": "Python 3 (ipykernel)",
   "language": "python",
   "name": "python3"
  },
  "language_info": {
   "codemirror_mode": {
    "name": "ipython",
    "version": 3
   },
   "file_extension": ".py",
   "mimetype": "text/x-python",
   "name": "python",
   "nbconvert_exporter": "python",
   "pygments_lexer": "ipython3",
   "version": "3.9.12"
  }
 },
 "nbformat": 4,
 "nbformat_minor": 5
}
